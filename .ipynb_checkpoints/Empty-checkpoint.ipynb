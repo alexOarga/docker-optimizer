{
 "cells": [
  {
   "cell_type": "code",
   "execution_count": 1,
   "metadata": {},
   "outputs": [
    {
     "name": "stdout",
     "output_type": "stream",
     "text": [
      "Defaulting to user installation because normal site-packages is not writeable\n",
      "Requirement already satisfied: fnyzer in /home/alex/.local/lib/python3.7/site-packages (1.3.4)\n",
      "Requirement already satisfied: pyomo>=5.5.0 in /home/alex/.local/lib/python3.7/site-packages (from fnyzer) (6.1.2)\n",
      "Requirement already satisfied: matplotlib>=3.0.0 in /home/alex/.local/lib/python3.7/site-packages (from fnyzer) (3.2.0)\n",
      "Requirement already satisfied: xlwt>=1.3.0 in /home/alex/.local/lib/python3.7/site-packages (from fnyzer) (1.3.0)\n",
      "Requirement already satisfied: statsmodels>=0.10.1 in /home/alex/.local/lib/python3.7/site-packages (from fnyzer) (0.12.2)\n",
      "Requirement already satisfied: ply in /home/alex/"
     ]
    },
    {
     "data": {
      "text/html": [
       "* * *"
      ]
     },
     "metadata": {},
     "output_type": "display_data"
    }
   ],
   "source": [
    "!pip install fnyzer"
   ]
  },
  {
   "cell_type": "code",
   "execution_count": 2,
   "metadata": {},
   "outputs": [],
   "source": [
    "from fnyzer import optimize\n",
    "from fnyzer import cobra2fn, optimize\n",
    "from fnyzer import FNFactory"
   ]
  },
  {
   "cell_type": "markdown",
   "metadata": {},
   "source": [
    "# GLPK"
   ]
  },
  {
   "cell_type": "code",
   "execution_count": 3,
   "metadata": {},
   "outputs": [
    {
     "data": {
      "text/plain": [
       "<pyomo.core.base.PyomoModel.ConcreteModel at 0x7f7087b9bd20>"
      ]
     },
     "execution_count": 3,
     "metadata": {},
     "output_type": "execute_result"
    }
   ],
   "source": [
    "net0 = {\n",
    "    'name': 'net0',\n",
    "    'solver': 'glpk',  # Solver to be used\n",
    "    'places': {        # Places and initial marking\n",
    "        'p1': 5,       # Initial marking of p1\n",
    "        'p2': None,    # The initial marking of p2 is not specified\n",
    "        },\n",
    "    'm0cons': [\"1 <= m0['p2']\", \"m0['p2'] <= 2\"], # Constraints for the\n",
    "                                                  # initial marking of p2\n",
    "    'vhandlers': {     # Event handlers\n",
    "        'v1': [\n",
    "            {'a': ('p1','v1'), 'b': ('v1','p2')}, # The same amount of tokens\n",
    "             'a == b'                             # is consumed from p1 and\n",
    "            ],                                    # produced in p2\n",
    "        'v2': [\n",
    "            {'a': ('p2','v2'), 'b': ('v2','p1')},\n",
    "             'a == b'\n",
    "            ],\n",
    "        },\n",
    "    'obj': {'f': \"m['p1']\", 'sense': 'max'}, # Objective function\n",
    "    'options' : {\n",
    "        'antype': 'un',        # Untimed analysis\n",
    "        'xlsfile': 'net0.xls', # Results will be stored in this spreadsheet\n",
    "        'netfile': 'net0.pkl', # The flexible net object with the resulting\n",
    "                               # variables will be saved in this file\n",
    "        }\n",
    "    }\n",
    "\n",
    "fnet = FNFactory(net0)\n",
    "fnet.optimize()"
   ]
  },
  {
   "cell_type": "markdown",
   "metadata": {},
   "source": [
    "# Gurobi"
   ]
  },
  {
   "cell_type": "code",
   "execution_count": null,
   "metadata": {},
   "outputs": [],
   "source": [
    "# Use: fnyzer fnexamples guardnet\n",
    "# Output: guardnet.xls, guardnet.pkl\n",
    "guardnet = { \n",
    "    'name': 'guardnet',\n",
    "    'solver': 'gurobi',\n",
    "    'places': {'A': 10, 'B': 0},\n",
    "    'trans': {'t1': {'l0': 0.0, 'a0': 0}, 't2': {'l0': 0, 'a0': 0}},\n",
    "    'vhandlers': {\n",
    "        'v1': [{'a': ('A','v1'), 'v': ('t1','v1')}, 'a == v'],\n",
    "        'v2': [{'b': ('v2','B'), 'v': ('t2','v2')}, 'b == v'],\n",
    "    },\n",
    "    'regs': {\n",
    "        'off': [\"m['A'] >= 5\"],\n",
    "        'on':  [\"m['A'] <= 5\"],\n",
    "    },\n",
    "    'parts': {'Par': ['off', 'on']},\n",
    "    'shandlers': {\n",
    "        's1': [{'a': ('A','s1'), 'x': ('s1','t1'), 'y': ('s1','t2')},\n",
    "                'x == a',\n",
    "                {'off': ['y == 0.2'], 'on': ['y == a']}]\n",
    "    },\n",
    "    'actfplaces': ['A'],\n",
    "    'exftrans': 'all',\n",
    "    'actavplaces': ['A'],\n",
    "    'exavtrans': 'all',\n",
    "    'obj': {'f': \"m['B']\", 'sense':'min'},\n",
    "    'options': {\n",
    "        'antype' : 'mpc',\n",
    "        'mpc': {\n",
    "            'firstinlen': .1,\n",
    "            'numsteps':   30,\n",
    "            'maxnumins':  1,\n",
    "            'flexins': False\n",
    "        },\n",
    "        'writevars': {'m': ['A', 'B'], 'l': 'all', 'L': 'all', 'U': 'all'},\n",
    "        'plotres': True,\n",
    "        'plotvars': {'evm':['A', 'B']}\n",
    "    }\n",
    "}\n",
    "\n",
    "\n",
    "#model, fn = optimize(guardnet)\n",
    "fnet = FNFactory(guardnet)\n",
    "fnet.optimize()"
   ]
  }
 ],
 "metadata": {
  "kernelspec": {
   "display_name": "Python 3",
   "language": "python",
   "name": "python3"
  },
  "language_info": {
   "codemirror_mode": {
    "name": "ipython",
    "version": 3
   },
   "file_extension": ".py",
   "mimetype": "text/x-python",
   "name": "python",
   "nbconvert_exporter": "python",
   "pygments_lexer": "ipython3",
   "version": "3.7.12"
  }
 },
 "nbformat": 4,
 "nbformat_minor": 4
}
